{
 "cells": [
  {
   "cell_type": "markdown",
   "metadata": {
    "pycharm": {
     "name": "#%% md\n"
    }
   },
   "source": [
    "# DICOM RT Tool Tutorial with Open-Access Data\n",
    "\n",
    "This notebook demonstrates the various functions and utilities available in the Dicom RT tool Python package (https://github.com/brianmanderson/Dicom_RT_and_Images_to_Mask) by Anderson et. al. It serves as supplementary information for the Technical Paper titled: <em>\"Simple Python Module for Conversions between DICOM Images and Radiation Therapy Structures, Masks, and Prediction Arrays\" </em>. This notebook works through an example of publicly available brain tumor data of T1-w/FLAIR MRI sequences and corresponding RT structure files with multiple segmented regions of interest. Full information of the publicly available brain tumor data used in this notebook can be found at: https://figshare.com/articles/dataset/Data_from_An_Investigation_of_Machine_Learning_Methods_in_Delta-radiomics_Feature_Analysis/9943334. This notebook was written for easy accessibility for beginners to Python programming, medical imaging, and computational analysis. It should take no more than 10-15 minutes to run in it's entirety from scratch. The notebook generates about 10 GB worth of files, so ensure you have adequate space to run it. \n",
    "\n",
    "The notebook covers the following topics (click to go to section):\n",
    "1. [Getting the data](#DATA)\n",
    "2. [Reading in DICOM and RT struct files and converting to numpy array format](#DICOM)\n",
    "3. [Saving arrays to nifti format and reloading them](#NIFTI)\n",
    "4. [Saving and loading numpy array files](#NUMPY)\n",
    "5. [Calculating radiomic features](#RADIOMICS)\n",
    "6. [Predictions To RT-Structure Example](#RTSTRUCTURE)\n",
    "\n",
    "The notebook assumes you have the following nested directory structure after running cells that download necessary data:"
   ]
  },
  {
   "cell_type": "code",
   "execution_count": null,
   "metadata": {
    "pycharm": {
     "name": "#%%\n"
    }
   },
   "outputs": [],
   "source": [
    "\"\"\"\n",
    "Top-level directory/\n",
    "├── DICOMRTTool_manuscript.ipynb\n",
    "├── Example_Data/ <- Generated when you run the cells below\n",
    "|   ├── Image_Data/ \n",
    "|       ├── Structure/ <- These correspond to the Pre-RT scans\n",
    "│           ├── T1/\n",
    "|               ├── Patient number/\n",
    "|                   ├── RT Struc file (.dcm) \n",
    "│           ├── T2FLAIR/\n",
    "|               ├── Patient number/\n",
    "|                   ├── RT Struc file (.dcm)\n",
    "|       ├── T1/\n",
    "|           ├── Post1/\n",
    "|               ├── Patient number/\n",
    "|                   ├── DICOM image files (.dcm)\n",
    "|           ├── Post2/\n",
    "|               ├── Patient number/\n",
    "|                   ├── DICOM image files (.dcm)\n",
    "|           ├── Pre/\n",
    "|               ├── Patient number/\n",
    "|                   ├── DICOM image files (.dcm) <- The images we care about\n",
    "|       ├── T2FLAIR/\n",
    "|           ├── Post1/\n",
    "|               ├── Patient number/\n",
    "|                   ├── DICOM image files (.dcm)\n",
    "|           ├── Post2/\n",
    "|               ├── Patient number/\n",
    "|                   ├── DICOM image files (.dcm)\n",
    "|           ├── Pre/\n",
    "|               ├── Patient number/\n",
    "|                   ├── DICOM image files (.dcm) <- The images we care about\n",
    "├── Data.zip <- Generated when you run the cells below, downloaded Figshare file\n",
    "├── Nifti_Data/ <- Generated when you run the cells below\n",
    "|   ├──Image.nii\n",
    "|   ├──Mask.nii\n",
    "|   ├──MRN_Path_To_Iteration.xlsx\n",
    "|   ├──Overall_Data_Examples_(iteration)0.nii.gz \n",
    "|   ├──Overall_mask_Examples_y(iteration)0.nii.gz \n",
    "├── Numpy_Data/ <- Generated when you run the cells below\n",
    "|   ├──image.npy\n",
    "|   ├──mask.npy\n",
    "├── RT_Structures/ <- Generated when you run the cells below\n",
    "|   ├──RS_Test_UID.dcm\n",
    "\"\"\""
   ]
  },
  {
   "cell_type": "code",
   "execution_count": 3,
   "metadata": {
    "pycharm": {
     "name": "#%%\n"
    },
    "scrolled": true
   },
   "outputs": [],
   "source": [
    "%%capture\n",
    "# Load or install the program, %%capture supresses print statements\n",
    "#pip install DicomRTTool --upgrade\n",
    "from src.DicomRTTool.ReaderWriter import DicomReaderWriter, ROIAssociationClass\n"
   ]
  },
  {
   "cell_type": "code",
   "execution_count": 4,
   "metadata": {
    "pycharm": {
     "name": "#%%\n"
    }
   },
   "outputs": [],
   "source": [
    "# importing neccessary libraries \n",
    "\n",
    "# file mangagment \n",
    "import os \n",
    "import zipfile\n",
    "from six.moves import urllib\n",
    "\n",
    "# array manipulation and plotting\n",
    "import numpy as np\n",
    "import pandas as pd\n",
    "import matplotlib.pyplot as plt\n",
    "\n",
    "# medical image manipulation \n",
    "import SimpleITK as sitk"
   ]
  },
  {
   "cell_type": "markdown",
   "metadata": {
    "pycharm": {
     "name": "#%% md\n"
    }
   },
   "source": [
    "## Part 1: Getting the data. <a name=\"DATA\"></a>"
   ]
  },
  {
   "cell_type": "markdown",
   "metadata": {
    "pycharm": {
     "name": "#%% md\n"
    }
   },
   "source": [
    "The RT struc files and their corresponding DICOM images can be in the same directory or different directories. Here we show a case where structure files and images are located in different directories. This is a good dataset to work with since its somewhat messy but coherent enough to show power of DICOMRTTool. Many files (pre-RT, post-RT at 2 timepoints) but only pre-RT T1 and FLAIR images have associated RT structure files. Downloading and unzipping the necessary files will take about 10 minutes on most CPUs and takes up about 8 GB of storage. One may visualize these DICOM images using a free commercially available DICOM viewer, such as Radiant (https://www.radiantviewer.com/)."
   ]
  },
  {
   "cell_type": "code",
   "execution_count": null,
   "metadata": {
    "pycharm": {
     "name": "#%%\n"
    }
   },
   "outputs": [],
   "source": [
    "%%time\n",
    "data_path = os.path.join('.', 'Example_Data')\n",
    "if not os.path.isdir(data_path): # create Example_data directory if it doesn't exist\n",
    "    os.mkdir(data_path)\n",
    "\n",
    "url_img = \"https://ndownloader.figshare.com/files/20140100\" # brain scans \n",
    "filename_img = os.path.join(data_path, 'Data.zip')\n",
    "if not os.path.exists(filename_img): # if zip file doesnt exist download \n",
    "    print (\"Retrieving zipped images...\")\n",
    "    print('Estimated download time is 5 minutes...')\n",
    "    urllib.request.urlretrieve(url_img, filename_img)\n",
    "    print('Finished downloading!')\n",
    "else:\n",
    "    print (\"Zipped images already downloaded.\")\n",
    "\n",
    "if os.path.exists(filename_img):  # If we downloaded the data\n",
    "    if not os.path.exists(os.path.join(data_path, 'Image_Data')): # and it hasn't been unzipped\n",
    "        print (\"Unzipping images...\")\n",
    "        print('Estimated unzip time is 2 minutes')\n",
    "        z = zipfile.ZipFile(filename_img)\n",
    "        z.extractall(data_path)\n",
    "        print (\"Done unzipping images.\")\n",
    "    \n",
    "print(\"All required files downloaded and unzipped!\") # print when done"
   ]
  },
  {
   "cell_type": "code",
   "execution_count": 5,
   "metadata": {
    "pycharm": {
     "name": "#%%\n"
    }
   },
   "outputs": [],
   "source": [
    "def display_slices(image, mask, skip=1):\n",
    "    \"\"\"\n",
    "    Displays a series of slices in z-direction that contains the segmented regions of interest.\n",
    "    Ensures all contours are displayed in consistent and different colors.\n",
    "        Parameters:\n",
    "            image (array-like): Numpy array of image.\n",
    "            mask (array-like): Numpy array of mask.\n",
    "            skip (int): Only print every nth slice, i.e. if 3 only print every 3rd slice, default 1.\n",
    "        Returns:\n",
    "            None (series of in-line plots).\n",
    "    \"\"\"\n",
    "\n",
    "    slice_locations = np.unique(np.where(mask != 0)[0]) # get indexes for where there is a contour present \n",
    "    slice_start = slice_locations[0] # first slice of contour \n",
    "    slice_end = slice_locations[len(slice_locations)-1] # last slice of contour\n",
    "    \n",
    "    counter = 1\n",
    "    \n",
    "    for img_arr, contour_arr in zip(image[slice_start:slice_end+1], mask[slice_start:slice_end+1]): # plot the slices with contours overlayed ontop\n",
    "        if counter % skip == 0: # if current slice is divisible by desired skip amount \n",
    "            masked_contour_arr = np.ma.masked_where(contour_arr == 0, contour_arr)\n",
    "            plt.imshow(img_arr, cmap='gray', interpolation='none')\n",
    "            plt.imshow(masked_contour_arr, cmap='cool', interpolation='none', alpha=0.5, vmin = 1, vmax = np.amax(mask)) # vmax is set as total number of contours so same colors can be displayed for each slice\n",
    "            plt.show()\n",
    "        counter += 1"
   ]
  },
  {
   "cell_type": "markdown",
   "metadata": {
    "pycharm": {
     "name": "#%% md\n"
    }
   },
   "source": [
    "## Part 2: Reading in DICOM and RT struct files and converting to numpy array format. <a name=\"DICOM\"></a>\n",
    "\n",
    "The principal on which this set of tools operates on is based on the DicomReaderWriter object. It is instantiated with the contours of interest (and associations) and can then be used to create numpy arrays of images and masks of the format [slices, width, height].\n",
    "\n",
    "\n",
    "The following code logic is used to demonstrate searching a path and returning indices for matched structures and images (by UID) for arbitrary directory structures (DICOM image files and RT Struct files not in the same folder). If all necessary structure files are in the same folder as the corresponding images (by UID), one can alternatively use an os.walk through directories of interest and call DicomReaderWriter each time a folder is discovered. For example, I normally use a folder structure MRN -> date of image (pre,mid,post-RT) -> type of scan (MRI, CT, etc.) -> files (DICOM images + RT Struct). However, this approach calls the DicomReaderWriter iteratively, which can be computationally taxing."
   ]
  },
  {
   "cell_type": "code",
   "execution_count": 6,
   "metadata": {
    "pycharm": {
     "name": "#%%\n"
    }
   },
   "outputs": [
    {
     "name": "stdout",
     "output_type": "stream",
     "text": [
      ".\\Example_Data\\Image_Data\n"
     ]
    }
   ],
   "source": [
    "DICOM_path = os.path.join('.', 'Example_Data', 'Image_Data') # folder where downloaded data was stored\n",
    "print(DICOM_path)"
   ]
  },
  {
   "cell_type": "markdown",
   "metadata": {
    "pycharm": {
     "name": "#%% md\n"
    }
   },
   "source": [
    "This will walk through all of the folders, and using SimpleITK, will separate them based on SeriesInstanceUIDs."
   ]
  },
  {
   "cell_type": "code",
   "execution_count": 7,
   "metadata": {
    "pycharm": {
     "name": "#%%\n"
    },
    "scrolled": false
   },
   "outputs": [
    {
     "name": "stdout",
     "output_type": "stream",
     "text": [
      "Estimated 30 seconds, depending on number of cores present in your computer\n"
     ]
    },
    {
     "name": "stderr",
     "output_type": "stream",
     "text": [
      "\r",
      "Loading through DICOM files:   0%|                                                             | 0/106 [00:00<?, ?it/s]"
     ]
    },
    {
     "name": "stdout",
     "output_type": "stream",
     "text": [
      "Loading from .\\Example_Data\\Image_Data\\Structure\\T1\\001\n",
      "Loading from .\\Example_Data\\Image_Data\\Structure\\T1\\002\n",
      "Loading from .\\Example_Data\\Image_Data\\Structure\\T1\\006\n",
      "Loading from .\\Example_Data\\Image_Data\\Structure\\T1\\004\n",
      "Loading from .\\Example_Data\\Image_Data\\Structure\\T1\\003\n",
      "Loading from .\\Example_Data\\Image_Data\\Structure\\T1\\005\n"
     ]
    },
    {
     "name": "stderr",
     "output_type": "stream",
     "text": [
      "Loading through DICOM files:  20%|██████████▎                                         | 21/106 [00:00<00:04, 18.86it/s]"
     ]
    },
    {
     "name": "stdout",
     "output_type": "stream",
     "text": [
      "Loading from .\\Example_Data\\Image_Data\\Structure\\T1\\010\n",
      "Loading from .\\Example_Data\\Image_Data\\Structure\\T1\\011\n",
      "Loading from .\\Example_Data\\Image_Data\\Structure\\T1\\007\n",
      "Loading from .\\Example_Data\\Image_Data\\Structure\\T1\\012\n",
      "Loading from .\\Example_Data\\Image_Data\\Structure\\T1\\009\n",
      "Loading from .\\Example_Data\\Image_Data\\Structure\\T1\\008\n",
      "Loading from .\\Example_Data\\Image_Data\\Structure\\T2Flair\\001\n",
      "Loading from .\\Example_Data\\Image_Data\\Structure\\T2Flair\\002\n",
      "Loading from .\\Example_Data\\Image_Data\\Structure\\T2Flair\\003\n",
      "Loading from .\\Example_Data\\Image_Data\\Structure\\T2Flair\\004\n",
      "Loading from .\\Example_Data\\Image_Data\\Structure\\T2Flair\\005\n",
      "Loading from .\\Example_Data\\Image_Data\\Structure\\T2Flair\\006\n",
      "Loading from .\\Example_Data\\Image_Data\\Structure\\T2Flair\\007\n",
      "Loading from .\\Example_Data\\Image_Data\\Structure\\T2Flair\\008\n",
      "Loading from .\\Example_Data\\Image_Data\\Structure\\T2Flair\\009\n",
      "Loading from .\\Example_Data\\Image_Data\\Structure\\T2Flair\\010\n",
      "Loading from .\\Example_Data\\Image_Data\\Structure\\T2Flair\\012\n",
      "Loading from .\\Example_Data\\Image_Data\\T1\\001\n",
      "Loading from .\\Example_Data\\Image_Data\\Structure\\T2Flair\\011\n",
      "Loading from .\\Example_Data\\Image_Data\\T1\\002\n"
     ]
    },
    {
     "name": "stderr",
     "output_type": "stream",
     "text": [
      "\r",
      "Loading through DICOM files:  28%|██████████████▋                                     | 30/106 [00:00<00:02, 28.33it/s]"
     ]
    },
    {
     "name": "stdout",
     "output_type": "stream",
     "text": [
      "Loading from .\\Example_Data\\Image_Data\\T1\\003\n",
      "Loading from .\\Example_Data\\Image_Data\\T1\\006\n",
      "Loading from .\\Example_Data\\Image_Data\\T1\\005\n",
      "Loading from .\\Example_Data\\Image_Data\\T1\\004\n",
      "Loading from .\\Example_Data\\Image_Data\\T1\\007\n",
      "Loading from .\\Example_Data\\Image_Data\\T1\\008\n",
      "Loading from .\\Example_Data\\Image_Data\\T1\\009\n",
      "Loading from .\\Example_Data\\Image_Data\\T1\\010\n",
      "Loading from .\\Example_Data\\Image_Data\\T1\\Post1\\001\n",
      "Loading from .\\Example_Data\\Image_Data\\T1\\Post1\\002\n",
      "Loading from .\\Example_Data\\Image_Data\\T1\\Post1\\003\n",
      "Loading from .\\Example_Data\\Image_Data\\T1\\Post1\\004\n",
      "Loading from .\\Example_Data\\Image_Data\\T1\\Post1\\005\n",
      "Loading from .\\Example_Data\\Image_Data\\T1\\Post1\\006\n"
     ]
    },
    {
     "name": "stderr",
     "output_type": "stream",
     "text": [
      "Loading through DICOM files:  38%|███████████████████▌                                | 40/106 [00:05<00:27,  2.38it/s]"
     ]
    },
    {
     "name": "stdout",
     "output_type": "stream",
     "text": [
      "Loading from .\\Example_Data\\Image_Data\\T1\\Post1\\007\n",
      "Loading from .\\Example_Data\\Image_Data\\T1\\Post1\\008\n",
      "Loading from .\\Example_Data\\Image_Data\\T1\\Post1\\009\n",
      "Loading from .\\Example_Data\\Image_Data\\T1\\Post1\\010\n",
      "Loading from .\\Example_Data\\Image_Data\\T1\\Post1\\011\n",
      "Loading from .\\Example_Data\\Image_Data\\T1\\Post1\\012\n",
      "Loading from .\\Example_Data\\Image_Data\\T1\\Post2\\001\n"
     ]
    },
    {
     "name": "stderr",
     "output_type": "stream",
     "text": [
      "Loading through DICOM files:  43%|██████████████████████▌                             | 46/106 [00:06<00:20,  2.88it/s]"
     ]
    },
    {
     "name": "stdout",
     "output_type": "stream",
     "text": [
      "Loading from .\\Example_Data\\Image_Data\\T1\\Post2\\002\n",
      "Loading from .\\Example_Data\\Image_Data\\T1\\Post2\\003\n",
      "Loading from .\\Example_Data\\Image_Data\\T1\\Post2\\004\n",
      "Loading from .\\Example_Data\\Image_Data\\T1\\Post2\\005\n",
      "Loading from .\\Example_Data\\Image_Data\\T1\\Post2\\006\n",
      "Loading from .\\Example_Data\\Image_Data\\T1\\Post2\\007\n"
     ]
    },
    {
     "name": "stderr",
     "output_type": "stream",
     "text": [
      "Loading through DICOM files:  47%|████████████████████████▌                           | 50/106 [00:07<00:16,  3.33it/s]"
     ]
    },
    {
     "name": "stdout",
     "output_type": "stream",
     "text": [
      "Loading from .\\Example_Data\\Image_Data\\T1\\Post2\\008\n",
      "Loading from .\\Example_Data\\Image_Data\\T1\\Post2\\009\n",
      "Loading from .\\Example_Data\\Image_Data\\T1\\Post2\\010\n",
      "Loading from .\\Example_Data\\Image_Data\\T1\\Post2\\011\n",
      "Loading from .\\Example_Data\\Image_Data\\T1\\Post2\\012\n"
     ]
    },
    {
     "name": "stderr",
     "output_type": "stream",
     "text": [
      "\r",
      "Loading through DICOM files:  50%|██████████████████████████                          | 53/106 [00:07<00:13,  4.02it/s]"
     ]
    },
    {
     "name": "stdout",
     "output_type": "stream",
     "text": [
      "Loading from .\\Example_Data\\Image_Data\\T1\\Pre\\001\n",
      "Loading from .\\Example_Data\\Image_Data\\T1\\Pre\\002\n"
     ]
    },
    {
     "name": "stderr",
     "output_type": "stream",
     "text": [
      "Loading through DICOM files:  53%|███████████████████████████▍                        | 56/106 [00:08<00:11,  4.41it/s]"
     ]
    },
    {
     "name": "stdout",
     "output_type": "stream",
     "text": [
      "Loading from .\\Example_Data\\Image_Data\\T1\\Pre\\003\n",
      "Loading from .\\Example_Data\\Image_Data\\T1\\Pre\\004\n",
      "Loading from .\\Example_Data\\Image_Data\\T1\\Pre\\005\n",
      "Loading from .\\Example_Data\\Image_Data\\T1\\Pre\\006\n"
     ]
    },
    {
     "name": "stderr",
     "output_type": "stream",
     "text": [
      "Loading through DICOM files:  57%|█████████████████████████████▍                      | 60/106 [00:08<00:08,  5.50it/s]"
     ]
    },
    {
     "name": "stdout",
     "output_type": "stream",
     "text": [
      "Loading from .\\Example_Data\\Image_Data\\T1\\Pre\\007\n",
      "Loading from .\\Example_Data\\Image_Data\\T1\\Pre\\008\n"
     ]
    },
    {
     "name": "stderr",
     "output_type": "stream",
     "text": [
      "Loading through DICOM files:  58%|██████████████████████████████▍                     | 62/106 [00:09<00:07,  5.53it/s]"
     ]
    },
    {
     "name": "stdout",
     "output_type": "stream",
     "text": [
      "Loading from .\\Example_Data\\Image_Data\\T1\\Pre\\009\n",
      "Loading from .\\Example_Data\\Image_Data\\T1\\Pre\\010\n"
     ]
    },
    {
     "name": "stderr",
     "output_type": "stream",
     "text": [
      "Loading through DICOM files:  61%|███████████████████████████████▉                    | 65/106 [00:09<00:05,  7.25it/s]"
     ]
    },
    {
     "name": "stdout",
     "output_type": "stream",
     "text": [
      "Loading from .\\Example_Data\\Image_Data\\T1\\Pre\\011\n",
      "Loading from .\\Example_Data\\Image_Data\\T1\\Pre\\012\n",
      "Loading from .\\Example_Data\\Image_Data\\T2Flair\\Post1\\001\n"
     ]
    },
    {
     "name": "stderr",
     "output_type": "stream",
     "text": [
      "\r",
      "Loading through DICOM files:  63%|████████████████████████████████▊                   | 67/106 [00:09<00:04,  8.18it/s]"
     ]
    },
    {
     "name": "stdout",
     "output_type": "stream",
     "text": [
      "Loading from .\\Example_Data\\Image_Data\\T2Flair\\Post1\\002\n",
      "Loading from .\\Example_Data\\Image_Data\\T2Flair\\Post1\\003\n",
      "Loading from .\\Example_Data\\Image_Data\\T2Flair\\Post1\\004\n",
      "Loading from .\\Example_Data\\Image_Data\\T2Flair\\Post1\\005\n"
     ]
    },
    {
     "name": "stderr",
     "output_type": "stream",
     "text": [
      "Loading through DICOM files:  68%|███████████████████████████████████▎                | 72/106 [00:09<00:03, 11.03it/s]"
     ]
    },
    {
     "name": "stdout",
     "output_type": "stream",
     "text": [
      "Loading from .\\Example_Data\\Image_Data\\T2Flair\\Post1\\006\n",
      "Loading from .\\Example_Data\\Image_Data\\T2Flair\\Post1\\007\n",
      "Loading from .\\Example_Data\\Image_Data\\T2Flair\\Post1\\008\n",
      "Loading from .\\Example_Data\\Image_Data\\T2Flair\\Post1\\009\n"
     ]
    },
    {
     "name": "stderr",
     "output_type": "stream",
     "text": [
      "Loading through DICOM files:  74%|██████████████████████████████████████▎             | 78/106 [00:10<00:01, 15.79it/s]"
     ]
    },
    {
     "name": "stdout",
     "output_type": "stream",
     "text": [
      "Loading from .\\Example_Data\\Image_Data\\T2Flair\\Post1\\010\n",
      "Loading from .\\Example_Data\\Image_Data\\T2Flair\\Post1\\011\n",
      "Loading from .\\Example_Data\\Image_Data\\T2Flair\\Post1\\012\n",
      "Loading from .\\Example_Data\\Image_Data\\T2Flair\\Post2\\001\n",
      "Loading from .\\Example_Data\\Image_Data\\T2Flair\\Post2\\002\n",
      "Loading from .\\Example_Data\\Image_Data\\T2Flair\\Post2\\003\n"
     ]
    },
    {
     "name": "stderr",
     "output_type": "stream",
     "text": [
      "Loading through DICOM files:  80%|█████████████████████████████████████████▋          | 85/106 [00:10<00:01, 20.86it/s]"
     ]
    },
    {
     "name": "stdout",
     "output_type": "stream",
     "text": [
      "Loading from .\\Example_Data\\Image_Data\\T2Flair\\Post2\\004\n",
      "Loading from .\\Example_Data\\Image_Data\\T2Flair\\Post2\\005\n",
      "Loading from .\\Example_Data\\Image_Data\\T2Flair\\Post2\\006\n",
      "Loading from .\\Example_Data\\Image_Data\\T2Flair\\Post2\\007\n",
      "Loading from .\\Example_Data\\Image_Data\\T2Flair\\Post2\\008\n",
      "Loading from .\\Example_Data\\Image_Data\\T2Flair\\Post2\\009\n"
     ]
    },
    {
     "name": "stderr",
     "output_type": "stream",
     "text": [
      "Loading through DICOM files:  86%|████████████████████████████████████████████▋       | 91/106 [00:10<00:00, 21.85it/s]"
     ]
    },
    {
     "name": "stdout",
     "output_type": "stream",
     "text": [
      "Loading from .\\Example_Data\\Image_Data\\T2Flair\\Post2\\010\n",
      "Loading from .\\Example_Data\\Image_Data\\T2Flair\\Post2\\011\n",
      "Loading from .\\Example_Data\\Image_Data\\T2Flair\\Post2\\012\n",
      "Loading from .\\Example_Data\\Image_Data\\T2Flair\\Pre\\001\n",
      "Loading from .\\Example_Data\\Image_Data\\T2Flair\\Pre\\002\n",
      "Loading from .\\Example_Data\\Image_Data\\T2Flair\\Pre\\003\n",
      "Loading from .\\Example_Data\\Image_Data\\T2Flair\\Pre\\004\n"
     ]
    },
    {
     "name": "stderr",
     "output_type": "stream",
     "text": [
      "Loading through DICOM files:  91%|███████████████████████████████████████████████     | 96/106 [00:10<00:00, 29.08it/s]"
     ]
    },
    {
     "name": "stdout",
     "output_type": "stream",
     "text": [
      "Loading from .\\Example_Data\\Image_Data\\T2Flair\\Pre\\005\n",
      "Loading from .\\Example_Data\\Image_Data\\T2Flair\\Pre\\006\n",
      "Loading from .\\Example_Data\\Image_Data\\T2Flair\\Pre\\007\n",
      "Loading from .\\Example_Data\\Image_Data\\T2Flair\\Pre\\008\n",
      "Loading from .\\Example_Data\\Image_Data\\T2Flair\\Pre\\009\n",
      "Loading from .\\Example_Data\\Image_Data\\T2Flair\\Pre\\010\n",
      "Loading from .\\Example_Data\\Image_Data\\T2Flair\\Pre\\011\n"
     ]
    },
    {
     "name": "stderr",
     "output_type": "stream",
     "text": [
      "Loading through DICOM files: 100%|███████████████████████████████████████████████████| 106/106 [00:11<00:00,  9.48it/s]"
     ]
    },
    {
     "name": "stdout",
     "output_type": "stream",
     "text": [
      "Loading from .\\Example_Data\\Image_Data\\T2Flair\\Pre\\012\n",
      "Compiling dictionaries together...\n",
      "Index 0, description Ax T2Flair Propeller at .\\Example_Data\\Image_Data\\T2Flair\\Pre\\002\n",
      "Index 1, description Ax T2Flair Propeller at .\\Example_Data\\Image_Data\\T2Flair\\Post2\\004\n",
      "Index 2, description Ax T2Flair Propeller at .\\Example_Data\\Image_Data\\T2Flair\\Pre\\006\n",
      "Index 3, description Ax T2Flair Propeller at .\\Example_Data\\Image_Data\\T2Flair\\Post1\\005\n",
      "Index 4, description Ax T2Flair Propeller at .\\Example_Data\\Image_Data\\T2Flair\\Post1\\006\n",
      "Index 5, description Ax T2Flair Propeller at .\\Example_Data\\Image_Data\\T2Flair\\Pre\\007\n",
      "Index 6, description Ax T2Flair Propeller at .\\Example_Data\\Image_Data\\T2Flair\\Post2\\006\n",
      "Index 7, description Ax T2Flair Propeller at .\\Example_Data\\Image_Data\\T2Flair\\Pre\\009\n",
      "Index 8, description Ax T2Flair Propeller at .\\Example_Data\\Image_Data\\T2Flair\\Post2\\010\n",
      "Index 9, description Ax T2Flair Propeller at .\\Example_Data\\Image_Data\\T2Flair\\Post1\\010\n",
      "Index 10, description Ax T2Flair Propeller at .\\Example_Data\\Image_Data\\T2Flair\\Pre\\004\n",
      "Index 11, description Ax T2Flair Propeller at .\\Example_Data\\Image_Data\\T2Flair\\Pre\\003\n",
      "Index 12, description Ax T2Flair Propeller at .\\Example_Data\\Image_Data\\T2Flair\\Post1\\002\n",
      "Index 13, description Ax T2Flair Propeller at .\\Example_Data\\Image_Data\\T2Flair\\Post2\\005\n",
      "Index 14, description Ax T2Flair Propeller at .\\Example_Data\\Image_Data\\T2Flair\\Post1\\009\n",
      "Index 15, description Ax T2Flair Propeller at .\\Example_Data\\Image_Data\\T2Flair\\Post2\\008\n",
      "Index 16, description Ax T2Flair Propeller at .\\Example_Data\\Image_Data\\T2Flair\\Post2\\009\n",
      "Index 17, description Ax T2Flair Propeller at .\\Example_Data\\Image_Data\\T2Flair\\Post2\\012\n",
      "Index 18, description Ax T2Flair Propeller at .\\Example_Data\\Image_Data\\T2Flair\\Pre\\010\n",
      "Index 19, description Ax T2Flair Propeller at .\\Example_Data\\Image_Data\\T2Flair\\Post2\\011\n",
      "Index 20, description Ax T2Flair Propeller at .\\Example_Data\\Image_Data\\T2Flair\\Post1\\011\n",
      "Index 21, description Ax T2Flair Propeller at .\\Example_Data\\Image_Data\\T2Flair\\Post1\\004\n",
      "Index 22, description Ax T2Flair Propeller at .\\Example_Data\\Image_Data\\T2Flair\\Post1\\007\n",
      "Index 23, description Ax T2Flair Propeller at .\\Example_Data\\Image_Data\\T2Flair\\Post2\\007\n",
      "Index 24, description Ax T2Flair Propeller at .\\Example_Data\\Image_Data\\T2Flair\\Post1\\003\n",
      "Index 25, description Ax T2Flair Propeller at .\\Example_Data\\Image_Data\\T2Flair\\Post1\\012\n",
      "Index 26, description Ax T2Flair Propeller at .\\Example_Data\\Image_Data\\T2Flair\\Post1\\008\n",
      "Index 27, description Ax T2Flair Propeller at .\\Example_Data\\Image_Data\\T2Flair\\Post1\\001\n",
      "Index 28, description Ax T2Flair Propeller at .\\Example_Data\\Image_Data\\T2Flair\\Pre\\005\n",
      "Index 29, description Ax T2Flair Propeller at .\\Example_Data\\Image_Data\\T2Flair\\Pre\\008\n",
      "Index 30, description Ax T2Flair Propeller at .\\Example_Data\\Image_Data\\T2Flair\\Pre\\001\n",
      "Index 31, description ax T1 3D 1MM fSPGR +C  at .\\Example_Data\\Image_Data\\T1\\Pre\\003\n",
      "Index 32, description ax T1 3D 1MM fSPGR +C  at .\\Example_Data\\Image_Data\\T1\\Post1\\001\n",
      "Index 33, description ax T1 3D 1MM fSPGR +C  at .\\Example_Data\\Image_Data\\T1\\Pre\\002\n",
      "Index 34, description ax T1 3D 1MM  +c at .\\Example_Data\\Image_Data\\T1\\Post2\\005\n",
      "Index 35, description ax T1 3D 1MM fSPGR +C  at .\\Example_Data\\Image_Data\\T1\\Pre\\005\n",
      "Index 36, description ax T1 3D 1MM  +c at .\\Example_Data\\Image_Data\\T1\\Post1\\008\n",
      "Index 37, description ax T1 3D 1MM fSPGR +C  at .\\Example_Data\\Image_Data\\T1\\Post1\\006\n",
      "Index 38, description ax T1 3D 1MM  +c at .\\Example_Data\\Image_Data\\T1\\Post2\\006\n",
      "Index 39, description ax T1 3D 1MM  +c at .\\Example_Data\\Image_Data\\T1\\Pre\\008\n",
      "Index 40, description ax T1 3D 1MM fSPGR +C  at .\\Example_Data\\Image_Data\\T1\\Post1\\005\n",
      "Index 41, description ax T1 3D 1MM fSPGR +C  at .\\Example_Data\\Image_Data\\T1\\Pre\\001\n",
      "Index 42, description ax T1 3D 1MM  +c at .\\Example_Data\\Image_Data\\T1\\Pre\\009\n",
      "Index 43, description ax T1 3D 1MM  +c at .\\Example_Data\\Image_Data\\T1\\Post1\\009\n",
      "Index 44, description ax T1 3D 1MM fSPGR +C  at .\\Example_Data\\Image_Data\\T1\\Post1\\007\n",
      "Index 45, description ax T1 3D 1MM fSPGR +C  at .\\Example_Data\\Image_Data\\T1\\Pre\\006\n",
      "Index 46, description ax T1 3D 1MM fSPGR +C  at .\\Example_Data\\Image_Data\\T1\\Pre\\007\n",
      "Index 47, description Ax T2Flair Propeller at .\\Example_Data\\Image_Data\\T2Flair\\Post2\\001\n",
      "Index 48, description ax T1 3D 1MM fSPGR +C  at .\\Example_Data\\Image_Data\\T1\\Post1\\002\n",
      "Index 49, description ax T1 3D 1MM fSPGR +C  at .\\Example_Data\\Image_Data\\T1\\Pre\\004\n",
      "Index 50, description ax T1 3D 1MM fSPGR +C  at .\\Example_Data\\Image_Data\\T1\\Post1\\003\n",
      "Index 51, description ax T1 3D 1MM fSPGR +C  at .\\Example_Data\\Image_Data\\T1\\Post2\\004\n",
      "Index 52, description ax T1 3D 1MM fSPGR +C  at .\\Example_Data\\Image_Data\\T1\\Post2\\001\n",
      "Index 53, description ax T1 3D 1MM fSPGR +C  at .\\Example_Data\\Image_Data\\T1\\Post1\\004\n",
      "Index 54, description Ax T2Flair Propeller at .\\Example_Data\\Image_Data\\T2Flair\\Pre\\011\n",
      "Index 55, description Ax T2Flair Propeller at .\\Example_Data\\Image_Data\\T2Flair\\Pre\\012\n",
      "Index 56, description ax T1 3D 1MM  +c at .\\Example_Data\\Image_Data\\T1\\Post2\\011\n",
      "Index 57, description ax T1 3D 1MM  +c at .\\Example_Data\\Image_Data\\T1\\Post2\\008\n",
      "Index 58, description ax T1 3D 1MM  +c at .\\Example_Data\\Image_Data\\T1\\Pre\\010\n",
      "Index 59, description ax T1 3D 1MM  +c at .\\Example_Data\\Image_Data\\T1\\Post2\\010\n",
      "Index 60, description ax T1 3D 1MM  +c at .\\Example_Data\\Image_Data\\T1\\Pre\\011\n",
      "Index 61, description ax T1 3D 1MM  +c at .\\Example_Data\\Image_Data\\T1\\Post1\\011\n",
      "Index 62, description ax T1 3D 1MM  +c at .\\Example_Data\\Image_Data\\T1\\Post1\\010\n",
      "Index 63, description ax T1 3D 1MM  +c at .\\Example_Data\\Image_Data\\T1\\Post2\\007\n",
      "Index 64, description ax T1 3D 1MM  +c at .\\Example_Data\\Image_Data\\T1\\Post1\\012\n",
      "Index 65, description ax T1 3D 1MM  +c at .\\Example_Data\\Image_Data\\T1\\Pre\\012\n",
      "Index 66, description ax T1 3D 1MM  +c at .\\Example_Data\\Image_Data\\T1\\Post2\\009\n",
      "Index 67, description ax T1 3D 1MM  +c at .\\Example_Data\\Image_Data\\T1\\Post2\\012\n",
      "Index 68, description Ax T2Flair Propeller at .\\Example_Data\\Image_Data\\T2Flair\\Post2\\002\n",
      "Index 69, description ax T1 3D 1MM fSPGR +C  at .\\Example_Data\\Image_Data\\T1\\Post2\\002\n",
      "Index 70, description Ax T2Flair Propeller at .\\Example_Data\\Image_Data\\T2Flair\\Post2\\003\n",
      "Index 71, description ax T1 3D 1MM fSPGR +C  at .\\Example_Data\\Image_Data\\T1\\Post2\\003\n",
      "Index 72, description None at None\n",
      "Index 73, description None at None\n",
      "74 unique series IDs were found. Default is index 0, to change use set_index(index)\n",
      "CPU times: total: 4.12 s\n",
      "Wall time: 12.6 s\n"
     ]
    },
    {
     "name": "stderr",
     "output_type": "stream",
     "text": [
      "\n"
     ]
    }
   ],
   "source": [
    "%%time\n",
    "Dicom_reader = DicomReaderWriter(description='Examples', arg_max=True)\n",
    "print('Estimated 30 seconds, depending on number of cores present in your computer')\n",
    "Dicom_reader.walk_through_folders(DICOM_path) # need to define in order to use all_roi method"
   ]
  },
  {
   "cell_type": "code",
   "execution_count": null,
   "metadata": {
    "pycharm": {
     "name": "#%%\n"
    },
    "scrolled": false
   },
   "outputs": [],
   "source": [
    "all_rois = Dicom_reader.return_rois(print_rois=True)  # Return a list of all rois present, and print them"
   ]
  },
  {
   "cell_type": "markdown",
   "metadata": {
    "pycharm": {
     "name": "#%% md\n"
    }
   },
   "source": [
    "As we can see, these ROIs correspond to a variety of structures. In particular, we can see many GBM and glioma structures. Note GBM denotes glioblastoma multiforme (a high grade glioma)."
   ]
  },
  {
   "cell_type": "code",
   "execution_count": null,
   "metadata": {
    "pycharm": {
     "name": "#%%\n"
    },
    "scrolled": true
   },
   "outputs": [],
   "source": [
    "# Print the locations of all RTs with a certain ROI name, automatically lower cased\n",
    "Dicom_reader.where_is_ROI(ROIName='BrAiNsTeM1')"
   ]
  },
  {
   "cell_type": "code",
   "execution_count": null,
   "metadata": {
    "pycharm": {
     "name": "#%%\n"
    }
   },
   "outputs": [],
   "source": [
    "Dicom_reader.which_indexes_have_all_rois()  # Check to see which indexes have all of the rois we want\n",
    "# Since we haven't defined anything yet, it prompts you to input a list of contour names"
   ]
  },
  {
   "cell_type": "code",
   "execution_count": null,
   "metadata": {
    "pycharm": {
     "name": "#%%\n"
    }
   },
   "outputs": [],
   "source": [
    "Dicom_reader.which_indexes_lack_all_rois() # Check to see which indexes LACK all of the rois we want\n",
    "# Since we haven't defined any wanted ROI yet, it will prompt you to input a list of contour names"
   ]
  },
  {
   "cell_type": "markdown",
   "metadata": {
    "pycharm": {
     "name": "#%% md\n"
    }
   },
   "source": [
    "From these ROIs, we will look for those that describe the following regions of interest: tumor (glioblastoma multiforme only) and high-dose area of radiation therapy. "
   ]
  },
  {
   "cell_type": "code",
   "execution_count": null,
   "metadata": {
    "pycharm": {
     "name": "#%%\n"
    }
   },
   "outputs": [],
   "source": [
    "Contour_Names = ['tumor', 'high_dose'] \n",
    "associations = [ROIAssociationClass('high_dose',['dose 1000[cgy]', 'dose 1200[cgy]']),\n",
    "               ROIAssociationClass('tumor', ['exprtfrontrecgbm', 'rtfrontrecgbm', 'expltfrontgbm', 'ltfrontgbm',\n",
    "                                            'infrttempgbm', 'rttemprecgbm', 'exprttemprecgbm', 'expltfrparrecgbm',\n",
    "                                            'ltfrparrecgbm'])]"
   ]
  },
  {
   "cell_type": "code",
   "execution_count": null,
   "metadata": {
    "pycharm": {
     "name": "#%%\n"
    }
   },
   "outputs": [],
   "source": [
    "!winget install pandoc"
   ]
  },
  {
   "cell_type": "code",
   "execution_count": null,
   "metadata": {
    "pycharm": {
     "name": "#%%\n"
    },
    "scrolled": false
   },
   "outputs": [],
   "source": [
    "Dicom_reader.set_contour_names_and_associations(contour_names=Contour_Names, associations=associations)"
   ]
  },
  {
   "cell_type": "markdown",
   "metadata": {
    "pycharm": {
     "name": "#%% md\n"
    }
   },
   "source": [
    "Note: The module is printing \"Found []\" because many of the scans (post-1 and post-2 RT) do not have associated structure files. The module recognizes these images exist (unique UIDs) but associated structure files cannot be located for them."
   ]
  },
  {
   "cell_type": "code",
   "execution_count": null,
   "metadata": {
    "pycharm": {
     "name": "#%%\n"
    }
   },
   "outputs": [],
   "source": [
    "indexes = Dicom_reader.which_indexes_have_all_rois()  # Check to see which indexes have all of the rois we want, now we can see indexes"
   ]
  },
  {
   "cell_type": "code",
   "execution_count": null,
   "metadata": {
    "pycharm": {
     "name": "#%%\n"
    }
   },
   "outputs": [],
   "source": [
    "pt_indx = indexes[-1]\n",
    "Dicom_reader.set_index(pt_indx)  # This index has all the structures, corresponds to pre-RT T1-w image for patient 011\n",
    "Dicom_reader.get_images_and_mask()  # Load up the images and mask for the requested index"
   ]
  },
  {
   "cell_type": "code",
   "execution_count": null,
   "metadata": {
    "pycharm": {
     "name": "#%%\n"
    }
   },
   "outputs": [],
   "source": [
    "image = Dicom_reader.ArrayDicom # image array\n",
    "mask = Dicom_reader.mask # mask array\n",
    "dicom_sitk_handle = Dicom_reader.dicom_handle # SimpleITK image handle\n",
    "mask_sitk_handle = Dicom_reader.annotation_handle # SimpleITK mask handle"
   ]
  },
  {
   "cell_type": "code",
   "execution_count": null,
   "metadata": {
    "pycharm": {
     "name": "#%%\n"
    },
    "scrolled": true
   },
   "outputs": [],
   "source": [
    "n_slices_skip = 4\n",
    "display_slices(image, mask, skip = n_slices_skip) # visualize that our segmentations were succesfully convereted "
   ]
  },
  {
   "cell_type": "markdown",
   "metadata": {
    "pycharm": {
     "name": "#%% md\n"
    }
   },
   "source": [
    "Note: Cyan color denotes tumor while magenta denotes surrounding area of high-dose radiation. Only displaying 7 slices."
   ]
  },
  {
   "cell_type": "markdown",
   "metadata": {
    "pycharm": {
     "name": "#%% md\n"
    }
   },
   "source": [
    "## Part 3: Saving arrays to nifti format. <a name=\"NIFTI\"></a>\n",
    "\n",
    "If you want to use a manual approach, you can view the nifti files easily after running get_images_and_mask(). Saving files as nifti is advisable since spacing information is preserved."
   ]
  },
  {
   "cell_type": "code",
   "execution_count": null,
   "metadata": {
    "pycharm": {
     "name": "#%%\n"
    }
   },
   "outputs": [],
   "source": [
    "nifti_path = os.path.join('.', 'Example_Data', 'Nifti_Data') # nifti subfolder \n",
    "if not os.path.exists(nifti_path):\n",
    "    os.makedirs(nifti_path)"
   ]
  },
  {
   "cell_type": "code",
   "execution_count": null,
   "metadata": {
    "pycharm": {
     "name": "#%%\n"
    }
   },
   "outputs": [],
   "source": [
    "dicom_sitk_handle = Dicom_reader.dicom_handle # SimpleITK image handle\n",
    "mask_sitk_handle = Dicom_reader.annotation_handle # SimpleITK mask handle\n",
    "sitk.WriteImage(dicom_sitk_handle, os.path.join(nifti_path, 'Image.nii'))\n",
    "sitk.WriteImage(mask_sitk_handle, os.path.join(nifti_path, 'Mask.nii'))"
   ]
  },
  {
   "cell_type": "markdown",
   "metadata": {
    "pycharm": {
     "name": "#%% md\n"
    }
   },
   "source": [
    "One can also use the built in .write_parallel attribute to generate nifti files for all relevant pairs the DicomReaderWriter object has found/generated. In this case there are 9 image/mask pairs for unique UIDs that contain all contours we are interested in. Note a corresponding log excel file in the specified output path. The nifti files are written in the following format: \"Overall_Data_{description}_ {iteration}.nii.gz\" (image) or \"Overall_mask_{description}_ y{iteration}.nii.gz\" (mask)."
   ]
  },
  {
   "cell_type": "code",
   "execution_count": null,
   "metadata": {
    "pycharm": {
     "name": "#%%\n"
    },
    "scrolled": true
   },
   "outputs": [],
   "source": [
    "%%time\n",
    "%%capture\n",
    "Dicom_reader.write_parallel(out_path = nifti_path, excel_file = os.path.join(nifti_path,'.','MRN_Path_To_Iteration.xlsx'))"
   ]
  },
  {
   "cell_type": "markdown",
   "metadata": {
    "pycharm": {
     "name": "#%% md\n"
    }
   },
   "source": [
    "We can now reload the nifti files and disaply them to check that nothing went wrong. You can inspect the other converted files by changing the numerical suffix as per the excel log file ('MRN_Path_To_Iteration.xlsx')."
   ]
  },
  {
   "cell_type": "code",
   "execution_count": null,
   "metadata": {
    "pycharm": {
     "name": "#%%\n"
    }
   },
   "outputs": [],
   "source": [
    "nifti_image = sitk.ReadImage(os.path.join(nifti_path,\"Overall_Data_Examples_8.nii.gz\")) # reload image\n",
    "image = sitk.GetArrayFromImage(nifti_image)\n",
    "nifti_mask = sitk.ReadImage(os.path.join(nifti_path,\"Overall_mask_Examples_y8.nii.gz\")) # reload mask\n",
    "mask = sitk.GetArrayFromImage(nifti_mask)"
   ]
  },
  {
   "cell_type": "code",
   "execution_count": null,
   "metadata": {
    "pycharm": {
     "name": "#%%\n"
    }
   },
   "outputs": [],
   "source": [
    "display_slices(image, mask, skip = n_slices_skip) # visualize that our segmentations were succesfully convereted from nifti "
   ]
  },
  {
   "cell_type": "markdown",
   "metadata": {
    "pycharm": {
     "name": "#%% md\n"
    }
   },
   "source": [
    "## Part 4: Saving and loading numpy files for later use. <a name=\"NUMPY\"></a>\n",
    "\n",
    "Finally we can save the numpy arrays themselves to files for later use (so you don't have to reinstantiate the computationally expensive DicomReaderWriter object) and subsequently re-load the numpy arrays."
   ]
  },
  {
   "cell_type": "code",
   "execution_count": null,
   "metadata": {
    "pycharm": {
     "name": "#%%\n"
    }
   },
   "outputs": [],
   "source": [
    "numpy_path = os.path.join(data_path, 'Numpy_Data') # go into numpy subfolder \n",
    "if not os.path.exists(numpy_path):\n",
    "    os.makedirs(numpy_path)"
   ]
  },
  {
   "cell_type": "code",
   "execution_count": null,
   "metadata": {
    "pycharm": {
     "name": "#%%\n"
    }
   },
   "outputs": [],
   "source": [
    "np.save(os.path.join(numpy_path, 'image'), image) # save the arrays\n",
    "np.save(os.path.join(numpy_path, 'mask'), mask)"
   ]
  },
  {
   "cell_type": "code",
   "execution_count": null,
   "metadata": {
    "pycharm": {
     "name": "#%%\n"
    }
   },
   "outputs": [],
   "source": [
    "image = np.load(os.path.join(numpy_path,'image.npy')) # load the arrays\n",
    "mask = np.load(os.path.join(numpy_path,'mask.npy'))"
   ]
  },
  {
   "cell_type": "markdown",
   "metadata": {
    "pycharm": {
     "name": "#%% md\n"
    }
   },
   "source": [
    "## Part 5: Radiomics Use-case Example. <a name=\"RADIOMICS\"></a>\n",
    "\n",
    "Here we use the popular open-source radiomics library PyRadiomics (https://pyradiomics.readthedocs.io/en/latest/) to calculate radiomic features for our ROIs. In this case, we only calculate a limited number features from the tumor as an illustrative example. "
   ]
  },
  {
   "cell_type": "code",
   "execution_count": null,
   "metadata": {
    "pycharm": {
     "name": "#%%\n"
    }
   },
   "outputs": [],
   "source": [
    "try:\n",
    "    from radiomics import featureextractor\n",
    "except:\n",
    "    !pip install pyradiomics\n",
    "    from radiomics import featureextractor"
   ]
  },
  {
   "cell_type": "code",
   "execution_count": null,
   "metadata": {
    "pycharm": {
     "name": "#%%\n"
    }
   },
   "outputs": [],
   "source": [
    "pd.set_option('display.max_columns', None) # show all columns"
   ]
  },
  {
   "cell_type": "code",
   "execution_count": null,
   "metadata": {
    "pycharm": {
     "name": "#%%\n"
    }
   },
   "outputs": [],
   "source": [
    "%%time\n",
    "# note: need sitk images (sitk.ReadImage(nifti file)) to plug into PyRadiomics, preserves spacing \n",
    "\n",
    "ROI_index = 1 # index for tumor\n",
    "nifti_mask_tumor = sitk.BinaryThreshold(nifti_mask, lowerThreshold=ROI_index, upperThreshold=ROI_index) # select only ROI of interest\n",
    "\n",
    "params = {} # can edit in more params as neccessary \n",
    "extractor = featureextractor.RadiomicsFeatureExtractor(**params) # instantiate extractor with parameters \n",
    "extractor.disableAllFeatures() # in case where only want some features, can delete disable/enable lines if you want deafult\n",
    "extractor.enableFeatureClassByName('firstorder') \n",
    "extractor.enableFeatureClassByName('glcm') \n",
    "features = {} # empty dictionary \n",
    "features = extractor.execute(nifti_image, nifti_mask_tumor) # unpack results into features dictionary\n",
    "df = pd.DataFrame({k: [v] for k, v in features.items()}) # put dictionary into a dataframe "
   ]
  },
  {
   "cell_type": "code",
   "execution_count": null,
   "metadata": {
    "pycharm": {
     "name": "#%%\n"
    },
    "scrolled": true
   },
   "outputs": [],
   "source": [
    "df # display dataframe to inspect features "
   ]
  },
  {
   "cell_type": "markdown",
   "metadata": {
    "pycharm": {
     "name": "#%% md\n"
    }
   },
   "source": [
    "Numerical results for radiomic features shown here are consistent with importing nifti files as image and label map in 3D Slicer (https://www.slicer.org/) and using Radiomics extension (https://www.slicer.org/wiki/Documentation/Nightly/Extensions/Radiomics)."
   ]
  },
  {
   "cell_type": "markdown",
   "metadata": {
    "pycharm": {
     "name": "#%% md\n"
    }
   },
   "source": [
    "## Part 6: Predictions To RT-Structure Example <a name=\"RTSTRUCTURE\"></a>\n",
    "\n",
    "Here we will provide a simple example for converting a predicted NumPy array of a square into a Dicom RT-Structure file"
   ]
  },
  {
   "cell_type": "code",
   "execution_count": null,
   "metadata": {
    "pycharm": {
     "name": "#%%\n"
    }
   },
   "outputs": [],
   "source": [
    "RT_path = os.path.join('Example_Data', 'RT_Structures')\n",
    "if not os.path.exists(RT_path):\n",
    "    os.makedirs(RT_path)"
   ]
  },
  {
   "cell_type": "markdown",
   "metadata": {
    "pycharm": {
     "name": "#%% md\n"
    }
   },
   "source": [
    "First, we will create a fake prediction, it will be the same size as the image NumPy array"
   ]
  },
  {
   "cell_type": "code",
   "execution_count": null,
   "metadata": {
    "pycharm": {
     "name": "#%%\n"
    }
   },
   "outputs": [],
   "source": [
    "image = Dicom_reader.ArrayDicom"
   ]
  },
  {
   "cell_type": "markdown",
   "metadata": {
    "pycharm": {
     "name": "#%% md\n"
    }
   },
   "source": [
    "Now, deep learning model typically create segmentations in the format of (z_images, rows, cols, # of classes) "
   ]
  },
  {
   "cell_type": "code",
   "execution_count": null,
   "metadata": {
    "pycharm": {
     "name": "#%%\n"
    }
   },
   "outputs": [],
   "source": [
    "def create_circular_mask(h, w, center=None, radius=None):\n",
    "\n",
    "    if center is None: # use the middle of the image\n",
    "        center = (int(w/2), int(h/2))\n",
    "    if radius is None: # use the smallest distance between the center and image walls\n",
    "        radius = min(center[0], center[1], w-center[0], h-center[1])\n",
    "\n",
    "    Y, X = np.ogrid[:h, :w]\n",
    "    dist_from_center = np.sqrt((X - center[0])**2 + (Y-center[1])**2)\n",
    "\n",
    "    mask = dist_from_center <= radius\n",
    "    return mask"
   ]
  },
  {
   "cell_type": "code",
   "execution_count": null,
   "metadata": {
    "pycharm": {
     "name": "#%%\n"
    }
   },
   "outputs": [],
   "source": [
    "predictions = np.zeros(image.shape + (4,))  # Four classes: background, square, circle, target\n",
    "predictions.shape\n",
    "predictions[75:80, 250:350, 100:200, 1] = 1  # Here we are drawing a square\n",
    "predictions[75:80, 250:350, 300:400, 2] += create_circular_mask(100, 100, center=None, radius=50).astype('int')\n",
    "predictions[75:80, 100:200, 200:300, 3] += create_circular_mask(100, 100, center=None, radius=50).astype('int')\n",
    "predictions[75:80, 100:200, 200:300, 3] -= create_circular_mask(100, 100, center=None, radius=33).astype('int')\n",
    "predictions[75:80, 100:200, 200:300, 3] += create_circular_mask(100, 100, center=None, radius=15).astype('int')"
   ]
  },
  {
   "cell_type": "code",
   "execution_count": null,
   "metadata": {
    "pycharm": {
     "name": "#%%\n"
    },
    "scrolled": true
   },
   "outputs": [],
   "source": [
    "display_slices(image, np.argmax(predictions, axis=-1), skip = 1) # visualize our square on the image"
   ]
  },
  {
   "cell_type": "markdown",
   "metadata": {
    "pycharm": {
     "name": "#%% md\n"
    }
   },
   "source": [
    "Convert the NumPy arrays into RT-Structure"
   ]
  },
  {
   "cell_type": "code",
   "execution_count": null,
   "metadata": {
    "pycharm": {
     "name": "#%%\n"
    }
   },
   "outputs": [],
   "source": [
    "Dicom_reader.prediction_array_to_RT(prediction_array=predictions, output_dir=RT_path,\n",
    "                                    ROI_Names=['square', 'circle', 'target'])"
   ]
  },
  {
   "cell_type": "markdown",
   "metadata": {
    "pycharm": {
     "name": "#%% md\n"
    }
   },
   "source": [
    "# Final notes\n",
    "\n",
    "### I hope that this code has been useful, if you have any suggestions or problems, please open an issue ticket or merge request on the Github: https://github.com/brianmanderson/Dicom_RT_and_Images_to_Mask\n",
    "\n",
    "#### Thank you!"
   ]
  },
  {
   "cell_type": "code",
   "execution_count": null,
   "metadata": {
    "pycharm": {
     "name": "#%%\n"
    }
   },
   "outputs": [],
   "source": []
  }
 ],
 "metadata": {
  "kernelspec": {
   "display_name": "Python 3 (ipykernel)",
   "language": "python",
   "name": "python3"
  },
  "language_info": {
   "codemirror_mode": {
    "name": "ipython",
    "version": 3
   },
   "file_extension": ".py",
   "mimetype": "text/x-python",
   "name": "python",
   "nbconvert_exporter": "python",
   "pygments_lexer": "ipython3",
   "version": "3.8.10"
  }
 },
 "nbformat": 4,
 "nbformat_minor": 4
}
